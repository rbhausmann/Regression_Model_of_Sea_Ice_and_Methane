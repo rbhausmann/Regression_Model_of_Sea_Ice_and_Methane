{
 "cells": [
  {
   "cell_type": "markdown",
   "id": "c2454bce",
   "metadata": {},
   "source": [
    "<b> I was not pleased with the -3.4 R^2 for the model of my data so I cam going to try cross validation and get a better idea of what model to use </b>"
   ]
  },
  {
   "cell_type": "code",
   "execution_count": 66,
   "id": "8ebe1ae5",
   "metadata": {},
   "outputs": [],
   "source": [
    "from sklearn.model_selection import train_test_split\n",
    "from sklearn.linear_model import LinearRegression, Ridge #ordinary linear regression + w/ ridge regularization\n",
    "from sklearn.preprocessing import StandardScaler, PolynomialFeatures\n",
    "import pandas as pd\n",
    "import matplotlib.pyplot as plt\n",
    "import seaborn as sns\n",
    "import numpy"
   ]
  },
  {
   "cell_type": "code",
   "execution_count": 4,
   "id": "f056b894",
   "metadata": {},
   "outputs": [],
   "source": [
    "All_Data = pd.read_csv('Combined_Carbon_AGAGE_test.csv')\n",
    "        "
   ]
  },
  {
   "cell_type": "code",
   "execution_count": 5,
   "id": "9fd38209",
   "metadata": {},
   "outputs": [
    {
     "data": {
      "text/html": [
       "<div>\n",
       "<style scoped>\n",
       "    .dataframe tbody tr th:only-of-type {\n",
       "        vertical-align: middle;\n",
       "    }\n",
       "\n",
       "    .dataframe tbody tr th {\n",
       "        vertical-align: top;\n",
       "    }\n",
       "\n",
       "    .dataframe thead th {\n",
       "        text-align: right;\n",
       "    }\n",
       "</style>\n",
       "<table border=\"1\" class=\"dataframe\">\n",
       "  <thead>\n",
       "    <tr style=\"text-align: right;\">\n",
       "      <th></th>\n",
       "      <th>Unnamed: 0</th>\n",
       "      <th>Unnamed: 0.1</th>\n",
       "      <th>YYYY</th>\n",
       "      <th>MM</th>\n",
       "      <th>extent</th>\n",
       "      <th>CFC11</th>\n",
       "      <th>CFC12</th>\n",
       "      <th>CFC113</th>\n",
       "      <th>CH3CCl3</th>\n",
       "      <th>CCl4</th>\n",
       "      <th>N20</th>\n",
       "      <th>CH4</th>\n",
       "      <th>Year_x</th>\n",
       "      <th>Month_x</th>\n",
       "      <th>El_Nino</th>\n",
       "      <th>La_Nina</th>\n",
       "      <th>Decimal Date</th>\n",
       "      <th>C02</th>\n",
       "      <th>Year_y</th>\n",
       "      <th>Month_y</th>\n",
       "    </tr>\n",
       "  </thead>\n",
       "  <tbody>\n",
       "    <tr>\n",
       "      <th>0</th>\n",
       "      <td>0</td>\n",
       "      <td>1986-05-01</td>\n",
       "      <td>1986</td>\n",
       "      <td>5</td>\n",
       "      <td>13.38</td>\n",
       "      <td>217.458</td>\n",
       "      <td>406.133</td>\n",
       "      <td>43.903</td>\n",
       "      <td>110.543</td>\n",
       "      <td>99.982</td>\n",
       "      <td>304.778</td>\n",
       "      <td>1659.207</td>\n",
       "      <td>1986</td>\n",
       "      <td>5</td>\n",
       "      <td>1</td>\n",
       "      <td>0</td>\n",
       "      <td>1986.375</td>\n",
       "      <td>347.26</td>\n",
       "      <td>1986</td>\n",
       "      <td>5</td>\n",
       "    </tr>\n",
       "    <tr>\n",
       "      <th>1</th>\n",
       "      <td>1</td>\n",
       "      <td>1986-06-01</td>\n",
       "      <td>1986</td>\n",
       "      <td>6</td>\n",
       "      <td>11.98</td>\n",
       "      <td>219.094</td>\n",
       "      <td>410.075</td>\n",
       "      <td>44.562</td>\n",
       "      <td>111.337</td>\n",
       "      <td>100.247</td>\n",
       "      <td>305.527</td>\n",
       "      <td>1652.992</td>\n",
       "      <td>1986</td>\n",
       "      <td>6</td>\n",
       "      <td>1</td>\n",
       "      <td>0</td>\n",
       "      <td>1986.458</td>\n",
       "      <td>347.52</td>\n",
       "      <td>1986</td>\n",
       "      <td>6</td>\n",
       "    </tr>\n",
       "    <tr>\n",
       "      <th>2</th>\n",
       "      <td>2</td>\n",
       "      <td>1986-07-01</td>\n",
       "      <td>1986</td>\n",
       "      <td>7</td>\n",
       "      <td>10.15</td>\n",
       "      <td>219.371</td>\n",
       "      <td>410.970</td>\n",
       "      <td>44.670</td>\n",
       "      <td>110.982</td>\n",
       "      <td>100.440</td>\n",
       "      <td>305.535</td>\n",
       "      <td>1650.822</td>\n",
       "      <td>1986</td>\n",
       "      <td>7</td>\n",
       "      <td>1</td>\n",
       "      <td>0</td>\n",
       "      <td>1986.542</td>\n",
       "      <td>347.33</td>\n",
       "      <td>1986</td>\n",
       "      <td>7</td>\n",
       "    </tr>\n",
       "    <tr>\n",
       "      <th>3</th>\n",
       "      <td>3</td>\n",
       "      <td>1986-08-01</td>\n",
       "      <td>1986</td>\n",
       "      <td>8</td>\n",
       "      <td>7.98</td>\n",
       "      <td>220.151</td>\n",
       "      <td>412.585</td>\n",
       "      <td>45.120</td>\n",
       "      <td>109.395</td>\n",
       "      <td>100.238</td>\n",
       "      <td>305.560</td>\n",
       "      <td>1648.518</td>\n",
       "      <td>1986</td>\n",
       "      <td>8</td>\n",
       "      <td>1</td>\n",
       "      <td>0</td>\n",
       "      <td>1986.625</td>\n",
       "      <td>347.41</td>\n",
       "      <td>1986</td>\n",
       "      <td>8</td>\n",
       "    </tr>\n",
       "    <tr>\n",
       "      <th>4</th>\n",
       "      <td>4</td>\n",
       "      <td>1986-09-01</td>\n",
       "      <td>1986</td>\n",
       "      <td>9</td>\n",
       "      <td>7.41</td>\n",
       "      <td>222.471</td>\n",
       "      <td>417.228</td>\n",
       "      <td>45.792</td>\n",
       "      <td>110.315</td>\n",
       "      <td>100.562</td>\n",
       "      <td>305.845</td>\n",
       "      <td>1668.842</td>\n",
       "      <td>1986</td>\n",
       "      <td>9</td>\n",
       "      <td>1</td>\n",
       "      <td>0</td>\n",
       "      <td>1986.708</td>\n",
       "      <td>348.35</td>\n",
       "      <td>1986</td>\n",
       "      <td>9</td>\n",
       "    </tr>\n",
       "  </tbody>\n",
       "</table>\n",
       "</div>"
      ],
      "text/plain": [
       "   Unnamed: 0 Unnamed: 0.1  YYYY  MM  extent    CFC11    CFC12  CFC113  \\\n",
       "0           0   1986-05-01  1986   5   13.38  217.458  406.133  43.903   \n",
       "1           1   1986-06-01  1986   6   11.98  219.094  410.075  44.562   \n",
       "2           2   1986-07-01  1986   7   10.15  219.371  410.970  44.670   \n",
       "3           3   1986-08-01  1986   8    7.98  220.151  412.585  45.120   \n",
       "4           4   1986-09-01  1986   9    7.41  222.471  417.228  45.792   \n",
       "\n",
       "   CH3CCl3     CCl4      N20       CH4  Year_x  Month_x  El_Nino  La_Nina  \\\n",
       "0  110.543   99.982  304.778  1659.207    1986        5        1        0   \n",
       "1  111.337  100.247  305.527  1652.992    1986        6        1        0   \n",
       "2  110.982  100.440  305.535  1650.822    1986        7        1        0   \n",
       "3  109.395  100.238  305.560  1648.518    1986        8        1        0   \n",
       "4  110.315  100.562  305.845  1668.842    1986        9        1        0   \n",
       "\n",
       "   Decimal Date     C02  Year_y  Month_y  \n",
       "0      1986.375  347.26    1986        5  \n",
       "1      1986.458  347.52    1986        6  \n",
       "2      1986.542  347.33    1986        7  \n",
       "3      1986.625  347.41    1986        8  \n",
       "4      1986.708  348.35    1986        9  "
      ]
     },
     "execution_count": 5,
     "metadata": {},
     "output_type": "execute_result"
    }
   ],
   "source": [
    "All_Data.head()"
   ]
  },
  {
   "cell_type": "code",
   "execution_count": 73,
   "id": "bf72ba4e",
   "metadata": {},
   "outputs": [],
   "source": [
    "B = All_Data['N20']"
   ]
  },
  {
   "cell_type": "code",
   "execution_count": 141,
   "id": "739c3cfb",
   "metadata": {},
   "outputs": [],
   "source": [
    "X = All_Data.loc[:,['N20','C02','CH4']]\n",
    "\n",
    "y = All_Data['extent']"
   ]
  },
  {
   "cell_type": "code",
   "execution_count": 142,
   "id": "7b9d0f12",
   "metadata": {},
   "outputs": [],
   "source": [
    "# hold out 20% of the data for final testing\n",
    "X, X_test, y, y_test = train_test_split(X, y, test_size=.2, random_state=10)\n"
   ]
  },
  {
   "cell_type": "code",
   "execution_count": 143,
   "id": "1dfcf6ed",
   "metadata": {},
   "outputs": [],
   "source": [
    "X_train, X_val, y_train, y_val = train_test_split(X, y, test_size=.25, random_state=3)"
   ]
  },
  {
   "cell_type": "code",
   "execution_count": 144,
   "id": "c5d5a6c7",
   "metadata": {},
   "outputs": [],
   "source": [
    "#set up the 3 models we're choosing from:\n",
    "\n",
    "lm = LinearRegression()\n",
    "\n",
    "#Feature scaling for train, val, and test so that we can run our ridge model on each\n",
    "scaler = StandardScaler()\n",
    "\n",
    "X_train_scaled = scaler.fit_transform(X_train.values)\n",
    "X_val_scaled = scaler.transform(X_val.values)\n",
    "X_test_scaled = scaler.transform(X_test.values)\n",
    "\n",
    "lm_reg = Ridge(alpha=1)\n",
    "\n",
    "#Feature transforms for train, val, and test so that we can run our poly model on each\n",
    "poly = PolynomialFeatures(degree=2) \n",
    "\n",
    "X_train_poly = poly.fit_transform(X_train.values)\n",
    "X_val_poly = poly.transform(X_val.values)\n",
    "X_test_poly = poly.transform(X_test.values)\n",
    "\n",
    "lm_poly = LinearRegression()"
   ]
  },
  {
   "cell_type": "code",
   "execution_count": 145,
   "id": "0dd94873",
   "metadata": {},
   "outputs": [
    {
     "name": "stdout",
     "output_type": "stream",
     "text": [
      "Linear Regression val R^2: 0.041\n",
      "Ridge Regression val R^2: 0.037\n",
      "Degree 2 polynomial regression val R^2: 0.056\n"
     ]
    }
   ],
   "source": [
    "#validate\n",
    "\n",
    "lm.fit(X_train, y_train)\n",
    "print(f'Linear Regression val R^2: {lm.score(X_val, y_val):.3f}')\n",
    "\n",
    "lm_reg.fit(X_train_scaled, y_train)\n",
    "print(f'Ridge Regression val R^2: {lm_reg.score(X_val_scaled, y_val):.3f}')\n",
    "\n",
    "lm_poly.fit(X_train_poly, y_train)\n",
    "print(f'Degree 2 polynomial regression val R^2: {lm_poly.score(X_val_poly, y_val):.3f}')"
   ]
  },
  {
   "cell_type": "markdown",
   "id": "9683f1c7",
   "metadata": {},
   "source": [
    "<b> Below I will attempt to adjust my features into polynomial terms and rerun the model</b>"
   ]
  },
  {
   "cell_type": "code",
   "execution_count": 155,
   "id": "23c87d57",
   "metadata": {},
   "outputs": [],
   "source": [
    "def split_and_validate(X2, y):\n",
    "    '''\n",
    "    For a set of features and target X, y, perform a 80/20 train/val split, \n",
    "    fit and validate a linear regression model, and report results\n",
    "    '''\n",
    "    \n",
    "    lr_model = LinearRegression()\n",
    "    lr_model.fit(X_train, y_train)\n",
    "    \n",
    "    # score fit model on validation data\n",
    "    val_score = lr_model.score(X_test, y_test)\n",
    "    \n",
    "    # report results\n",
    "    print('\\nValidation R^2 score was:', val_score)\n",
    "    print('Feature coefficient results: \\n')\n",
    "    for feature, coef in zip(X.columns, lr_model.coef_):\n",
    "        print(feature, ':', f'{coef:.2f}')"
   ]
  },
  {
   "cell_type": "markdown",
   "id": "0a8d7a38",
   "metadata": {},
   "source": [
    "<b> APPLYING A 2ND DEGREE POLYNOMIAL </B>"
   ]
  },
  {
   "cell_type": "code",
   "execution_count": 156,
   "id": "84b943bc",
   "metadata": {},
   "outputs": [
    {
     "name": "stdout",
     "output_type": "stream",
     "text": [
      "\n",
      "Validation R^2 score was: 0.04268305117753379\n",
      "Feature coefficient results: \n",
      "\n",
      "N20 : 0.14\n",
      "C02 : -0.11\n",
      "CH4 : 0.01\n"
     ]
    }
   ],
   "source": [
    "\n",
    "X2 = X.copy()\n",
    "\n",
    "X2['N20_POLY'] = X2['N20'] ** 2\n",
    "X2['C02_POLY'] = X2['C02'] ** 2\n",
    "X2['CH4_POLY'] = X2['CH4'] ** 2\n",
    "\n",
    "split_and_validate(X2, y)"
   ]
  },
  {
   "cell_type": "markdown",
   "id": "8c7aca8f",
   "metadata": {},
   "source": [
    "<b> APPLYING A 3ND DEGREE POLYNOMIAL </B>"
   ]
  },
  {
   "cell_type": "code",
   "execution_count": 160,
   "id": "014a91d9",
   "metadata": {},
   "outputs": [],
   "source": [
    "def split_and_validate(X3, y):\n",
    "    '''\n",
    "    For a set of features and target X, y, perform a 80/20 train/val split, \n",
    "    fit and validate a linear regression model, and report results\n",
    "    '''\n",
    "    \n",
    "    lr_model = LinearRegression()\n",
    "    lr_model.fit(X_train, y_train)\n",
    "    \n",
    "    # score fit model on validation data\n",
    "    val_score = lr_model.score(X_test, y_test)\n",
    "    \n",
    "    # report results\n",
    "    print('\\nValidation R^2 score was:', val_score)\n",
    "    print('Feature coefficient results: \\n')\n",
    "    for feature, coef in zip(X.columns, lr_model.coef_):\n",
    "        print(feature, ':', f'{coef:.2f}')"
   ]
  },
  {
   "cell_type": "code",
   "execution_count": 158,
   "id": "514fea05",
   "metadata": {},
   "outputs": [],
   "source": [
    "X3 = X2.copy()\n",
    "\n",
    "X3['N20_POLY3'] = X2['N20'] ** 3\n",
    "X3['C02_POLY3'] = X2['C02'] ** 3\n",
    "\n"
   ]
  },
  {
   "cell_type": "code",
   "execution_count": 161,
   "id": "ca852fce",
   "metadata": {},
   "outputs": [
    {
     "name": "stdout",
     "output_type": "stream",
     "text": [
      "\n",
      "Validation R^2 score was: 0.04268305117753379\n",
      "Feature coefficient results: \n",
      "\n",
      "N20 : 0.14\n",
      "C02 : -0.11\n",
      "CH4 : 0.01\n"
     ]
    }
   ],
   "source": [
    "split_and_validate(X3, y)"
   ]
  },
  {
   "cell_type": "markdown",
   "id": "bf5c0d3b",
   "metadata": {},
   "source": [
    "<b> There is no difference between the 2 and 3 degree polynomial- I most likely messed up on the process. I'm now going to test interaction between the two features and see how that affects the model </b>"
   ]
  },
  {
   "cell_type": "code",
   "execution_count": 151,
   "id": "426a68eb",
   "metadata": {},
   "outputs": [],
   "source": [
    "def split_and_validate(X4, y):\n",
    "    '''\n",
    "    For a set of features and target X, y, perform a 80/20 train/val split, \n",
    "    fit and validate a linear regression model, and report results\n",
    "    '''\n",
    "    \n",
    "    lr_model = LinearRegression()\n",
    "    lr_model.fit(X_train, y_train)\n",
    "    \n",
    "    # score fit model on validation data\n",
    "    # val_score = lr_model.score(X_test, y_test)\n",
    "    \n",
    "    # report results\n",
    "    print('\\nValidation R^2 score was:', val_score)\n",
    "    print('Feature coefficient results: \\n')\n",
    "    for feature, coef in zip(X.columns, lr_model.coef_):\n",
    "        print(feature, ':', f'{coef:.2f}')"
   ]
  },
  {
   "cell_type": "code",
   "execution_count": 152,
   "id": "96467c92",
   "metadata": {},
   "outputs": [],
   "source": [
    "X4 = X2.copy()\n",
    "\n",
    "# multiplicative interaction\n",
    "# X3['N20_x_C02'] = X3['N20'] * X3['C02']\n",
    "\n",
    "# division interaction\n",
    "X3['N20/C02'] = X3['N20'] / X3['C02']\n",
    "\n"
   ]
  },
  {
   "cell_type": "code",
   "execution_count": 153,
   "id": "d8396ec2",
   "metadata": {},
   "outputs": [
    {
     "name": "stdout",
     "output_type": "stream",
     "text": [
      "\n",
      "Validation R^2 score was: 0.04268305117753379\n",
      "Feature coefficient results: \n",
      "\n",
      "N20 : 0.14\n",
      "C02 : -0.11\n",
      "CH4 : 0.01\n"
     ]
    }
   ],
   "source": [
    "split_and_validate(X4, y)"
   ]
  },
  {
   "cell_type": "code",
   "execution_count": null,
   "id": "8bce7fa8",
   "metadata": {},
   "outputs": [],
   "source": []
  },
  {
   "cell_type": "code",
   "execution_count": null,
   "id": "8f54833f",
   "metadata": {},
   "outputs": [],
   "source": [
    "X_test, y_test"
   ]
  },
  {
   "cell_type": "code",
   "execution_count": 164,
   "id": "465d43a6",
   "metadata": {},
   "outputs": [
    {
     "name": "stdout",
     "output_type": "stream",
     "text": [
      "\n",
      "Validation R^2 score was: 0.04268305117753379\n",
      "Feature coefficient results: \n",
      "\n",
      "N20 : 0.14\n",
      "C02 : -0.11\n",
      "CH4 : 0.01\n"
     ]
    }
   ],
   "source": [
    "\n",
    "    \n",
    "    lr_model = LinearRegression()\n",
    "    lr_model.fit(X_train, y_train)\n",
    "    \n",
    "    # score fit model on validation data\n",
    "    val_score = lr_model.score(X_test, y_test)\n",
    "    \n",
    "    # report results\n",
    "    print('\\nValidation R^2 score was:', val_score)\n",
    "    print('Feature coefficient results: \\n')\n",
    "    for feature, coef in zip(X.columns, lr_model.coef_):\n",
    "        print(feature, ':', f'{coef:.2f}')"
   ]
  },
  {
   "cell_type": "code",
   "execution_count": 166,
   "id": "fedb6ba5",
   "metadata": {},
   "outputs": [
    {
     "data": {
      "text/plain": [
       "<seaborn.axisgrid.JointGrid at 0x11bddc880>"
      ]
     },
     "execution_count": 166,
     "metadata": {},
     "output_type": "execute_result"
    },
    {
     "data": {
      "image/png": "[encoded data removed]",
      "text/plain": [
       "<Figure size 432x432 with 3 Axes>"
      ]
     },
     "metadata": {
      "needs_background": "light"
     },
     "output_type": "display_data"
    }
   ],
   "source": [
    "preds = lr_model.predict(X_test)\n",
    "residuals = y_test - preds\n",
    "sns.jointplot(x=preds,y=y_test, kind='reg')"
   ]
  },
  {
   "cell_type": "code",
   "execution_count": null,
   "id": "47f227a9",
   "metadata": {},
   "outputs": [],
   "source": []
  },
  {
   "cell_type": "code",
   "execution_count": null,
   "id": "75bcc9df",
   "metadata": {},
   "outputs": [],
   "source": []
  },
  {
   "cell_type": "code",
   "execution_count": null,
   "id": "fdbd0e20",
   "metadata": {},
   "outputs": [],
   "source": []
  },
  {
   "cell_type": "code",
   "execution_count": null,
   "id": "090771bd",
   "metadata": {},
   "outputs": [],
   "source": []
  },
  {
   "cell_type": "markdown",
   "id": "2ccb8fd6",
   "metadata": {},
   "source": [
    "<B> A THIRD PARTY SCRIPT ATTEMPTING TO CREATE A POLYNOMIAL MODEL FOR MY DATA</b>"
   ]
  },
  {
   "cell_type": "code",
   "execution_count": 41,
   "id": "e8a66538",
   "metadata": {},
   "outputs": [
    {
     "name": "stdout",
     "output_type": "stream",
     "text": [
      "Degree 2 polynomial regression val R^2: 0.033\n"
     ]
    }
   ],
   "source": [
    "lm.fit(X,y)\n",
    "print(f'Degree 2 polynomial regression val R^2: {lm.score(X_test, y_test):.3f}')"
   ]
  },
  {
   "cell_type": "code",
   "execution_count": 91,
   "id": "5de52512",
   "metadata": {},
   "outputs": [],
   "source": [
    "mymodel = numpy.poly1d(numpy.polyfit(B, y, 4))"
   ]
  },
  {
   "cell_type": "code",
   "execution_count": 92,
   "id": "f385ba66",
   "metadata": {},
   "outputs": [
    {
     "data": {
      "text/plain": [
       "poly1d([ 2.89015927e-05, -3.64299409e-02,  1.72140296e+01, -3.61400525e+03,\n",
       "        2.84457309e+05])"
      ]
     },
     "execution_count": 92,
     "metadata": {},
     "output_type": "execute_result"
    }
   ],
   "source": [
    "mymodel"
   ]
  },
  {
   "cell_type": "code",
   "execution_count": 93,
   "id": "9ce5fe7e",
   "metadata": {},
   "outputs": [],
   "source": [
    "myline = numpy.linspace(1, 381, 381)"
   ]
  },
  {
   "cell_type": "code",
   "execution_count": 94,
   "id": "0aee838e",
   "metadata": {},
   "outputs": [
    {
     "data": {
      "text/plain": [
       "<matplotlib.collections.PathCollection at 0x11c572970>"
      ]
     },
     "execution_count": 94,
     "metadata": {},
     "output_type": "execute_result"
    },
    {
     "data": {
      "image/png": "[encoded data removed]",
      "text/plain": [
       "<Figure size 432x288 with 1 Axes>"
      ]
     },
     "metadata": {
      "needs_background": "light"
     },
     "output_type": "display_data"
    }
   ],
   "source": [
    "plt.scatter(B, y)"
   ]
  },
  {
   "cell_type": "code",
   "execution_count": 95,
   "id": "46b9ce5b",
   "metadata": {},
   "outputs": [
    {
     "data": {
      "text/plain": [
       "[<matplotlib.lines.Line2D at 0x11c5ff730>]"
      ]
     },
     "execution_count": 95,
     "metadata": {},
     "output_type": "execute_result"
    },
    {
     "data": {
      "image/png": "[encoded data removed]",
      "text/plain": [
       "<Figure size 432x288 with 1 Axes>"
      ]
     },
     "metadata": {
      "needs_background": "light"
     },
     "output_type": "display_data"
    }
   ],
   "source": [
    "plt.plot(myline, mymodel(myline))"
   ]
  },
  {
   "cell_type": "code",
   "execution_count": 96,
   "id": "835fe0d7",
   "metadata": {},
   "outputs": [],
   "source": [
    "import numpy\n",
    "from sklearn.metrics import r2_score"
   ]
  },
  {
   "cell_type": "code",
   "execution_count": 98,
   "id": "cd3fa4ad",
   "metadata": {},
   "outputs": [
    {
     "name": "stdout",
     "output_type": "stream",
     "text": [
      "0.025856044777259113\n"
     ]
    }
   ],
   "source": [
    "mymodel = numpy.poly1d(numpy.polyfit(B, y, 4))\n",
    "\n",
    "print(r2_score(y, mymodel(B)))"
   ]
  },
  {
   "cell_type": "code",
   "execution_count": null,
   "id": "2a00ea2c",
   "metadata": {},
   "outputs": [],
   "source": []
  },
  {
   "cell_type": "markdown",
   "id": "c5d05a7e",
   "metadata": {},
   "source": [
    "<b> The Cross Validation tells me that 2nd Degree polynomial regression is the best choice. I will now apply a polynomial degree to the N02 column and retrain my model "
   ]
  },
  {
   "cell_type": "code",
   "execution_count": 60,
   "id": "c220a4ec",
   "metadata": {},
   "outputs": [],
   "source": [
    "import scipy.stats as stats"
   ]
  },
  {
   "cell_type": "code",
   "execution_count": 61,
   "id": "8f803513",
   "metadata": {},
   "outputs": [],
   "source": [
    "def diagnostic_plots(y_pred, y_true, resid):\n",
    "    fig, axes = plt.subplots(1, 3, figsize=(10, 4))\n",
    "\n",
    "    g1 = sns.regplot(x=y_pred, y=y_true, ci=False, fit_reg=False, line_kws={'color': 'blue'}, ax=axes[0], scatter_kws={'s': 5})\n",
    "    g1.set_xlabel('Predicted Target')\n",
    "    g1.set_ylabel('True Target')\n",
    "    g1.plot(y_true, y_true, '--', color='gray')\n",
    "\n",
    "    g2 = sns.regplot(x=y_pred, y=resid, lowess=True, ax=axes[1], line_kws={'color': 'red'}, scatter_kws={'s': 5})\n",
    "    g2.set_xlabel('Predicted Target')\n",
    "    g2.set_ylabel('Residual')\n",
    "    g2.axhline(y=0, color='gray', linestyle='--')\n",
    "\n",
    "    stats.probplot(resid, dist=\"norm\", plot=axes[2])\n",
    "\n",
    "    fig.suptitle('Diagnostic Plots');\n",
    "    fig.tight_layout();"
   ]
  },
  {
   "cell_type": "code",
   "execution_count": 62,
   "id": "670e7635",
   "metadata": {},
   "outputs": [
    {
     "ename": "NameError",
     "evalue": "name 'fit' is not defined",
     "output_type": "error",
     "traceback": [
      "\u001b[0;31m---------------------------------------------------------------------------\u001b[0m",
      "\u001b[0;31mNameError\u001b[0m                                 Traceback (most recent call last)",
      "\u001b[0;32m<ipython-input-62-54f8f66130d4>\u001b[0m in \u001b[0;36m<module>\u001b[0;34m\u001b[0m\n\u001b[0;32m----> 1\u001b[0;31m \u001b[0mdiagnostic_plots\u001b[0m\u001b[0;34m(\u001b[0m\u001b[0mfit\u001b[0m\u001b[0;34m.\u001b[0m\u001b[0mfittedvalues\u001b[0m\u001b[0;34m,\u001b[0m \u001b[0my\u001b[0m\u001b[0;34m,\u001b[0m \u001b[0mfit\u001b[0m\u001b[0;34m.\u001b[0m\u001b[0mresid\u001b[0m\u001b[0;34m)\u001b[0m\u001b[0;34m\u001b[0m\u001b[0;34m\u001b[0m\u001b[0m\n\u001b[0m",
      "\u001b[0;31mNameError\u001b[0m: name 'fit' is not defined"
     ]
    }
   ],
   "source": [
    "diagnostic_plots(fit.fittedvalues, y, fit.resid)"
   ]
  },
  {
   "cell_type": "code",
   "execution_count": null,
   "id": "acd976b2",
   "metadata": {},
   "outputs": [],
   "source": []
  },
  {
   "cell_type": "code",
   "execution_count": null,
   "id": "505339dc",
   "metadata": {},
   "outputs": [],
   "source": []
  },
  {
   "cell_type": "code",
   "execution_count": null,
   "id": "7abe0ce1",
   "metadata": {},
   "outputs": [],
   "source": []
  },
  {
   "cell_type": "code",
   "execution_count": null,
   "id": "64c1a53b",
   "metadata": {},
   "outputs": [],
   "source": []
  },
  {
   "cell_type": "code",
   "execution_count": null,
   "id": "aa04dd20",
   "metadata": {},
   "outputs": [],
   "source": []
  }
 ],
 "metadata": {
  "kernelspec": {
   "display_name": "Python 3",
   "language": "python",
   "name": "python3"
  },
  "language_info": {
   "codemirror_mode": {
    "name": "ipython",
    "version": 3
   },
   "file_extension": ".py",
   "mimetype": "text/x-python",
   "name": "python",
   "nbconvert_exporter": "python",
   "pygments_lexer": "ipython3",
   "version": "3.9.4"
  }
 },
 "nbformat": 4,
 "nbformat_minor": 5
}
